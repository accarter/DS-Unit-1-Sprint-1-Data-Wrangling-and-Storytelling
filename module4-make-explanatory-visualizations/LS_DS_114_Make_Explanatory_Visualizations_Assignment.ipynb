{
  "nbformat": 4,
  "nbformat_minor": 0,
  "metadata": {
    "colab": {
      "name": "LS_DS_114_Make_Explanatory_Visualizations_Assignment.ipynb",
      "provenance": [],
      "collapsed_sections": [],
      "include_colab_link": true
    },
    "language_info": {
      "codemirror_mode": {
        "name": "ipython",
        "version": 3
      },
      "file_extension": ".py",
      "mimetype": "text/x-python",
      "name": "python",
      "nbconvert_exporter": "python",
      "pygments_lexer": "ipython3",
      "version": "3.7.1"
    },
    "kernelspec": {
      "display_name": "Python 3",
      "language": "python",
      "name": "python3"
    }
  },
  "cells": [
    {
      "cell_type": "markdown",
      "metadata": {
        "id": "view-in-github",
        "colab_type": "text"
      },
      "source": [
        "<a href=\"https://colab.research.google.com/github/accarter/DS-Unit-1-Sprint-1-Data-Wrangling-and-Storytelling/blob/master/module4-make-explanatory-visualizations/LS_DS_114_Make_Explanatory_Visualizations_Assignment.ipynb\" target=\"_parent\"><img src=\"https://colab.research.google.com/assets/colab-badge.svg\" alt=\"Open In Colab\"/></a>"
      ]
    },
    {
      "cell_type": "markdown",
      "metadata": {
        "colab_type": "text",
        "id": "NMEswXWh9mqw"
      },
      "source": [
        "Lambda School Data Science\n",
        "\n",
        "*Unit 1, Sprint 1, Module 4*\n",
        "\n",
        "---\n",
        "\n",
        "# ASSIGNMENT\n",
        "\n",
        "### 1) Replicate the lesson code. I recommend that you [do not copy-paste](https://docs.google.com/document/d/1ubOw9B3Hfip27hF2ZFnW3a3z9xAgrUDRReOEo-FHCVs/edit).\n",
        "\n",
        "Get caught up to where we got our example in class and then try and take things further. How close to \"pixel perfect\" can you make the lecture graph?\n",
        "\n",
        "Once you have something that you're proud of, share your graph in the cohort channel and move on to the second exercise.\n",
        "\n",
        "### 2) Reproduce another example from [FiveThityEight's shared data repository](https://data.fivethirtyeight.com/).\n",
        "\n",
        "**WARNING**: There are a lot of very custom graphs and tables at the above link. I **highly** recommend not trying to reproduce any that look like a table of values or something really different from the graph types that we are already familiar with. Search through the posts until you find a graph type that you are more or less familiar with: histogram, bar chart, stacked bar chart, line chart, [seaborn relplot](https://seaborn.pydata.org/generated/seaborn.relplot.html), etc. Recreating some of the graphics that 538 uses would be a lot easier in Adobe photoshop/illustrator than with matplotlib. \n",
        "\n",
        "- If you put in some time to find a graph that looks \"easy\" to replicate you'll probably find that it's not as easy as you thought. \n",
        "\n",
        "- If you start with a graph that looks hard to replicate you'll probably run up against a brick wall and be disappointed with your afternoon.\n",
        "\n",
        "\n",
        "\n",
        "\n",
        "\n",
        "\n",
        "\n",
        "\n",
        "\n",
        "\n"
      ]
    },
    {
      "cell_type": "code",
      "metadata": {
        "id": "7SY1ZHawyZvz",
        "colab_type": "code",
        "colab": {}
      },
      "source": [
        "# replicated lesson code can be found at: https://colab.research.google.com/drive/18leG73Wftj9LOUhKeDkJpGH3NZfUyeeu?usp=sharing"
      ],
      "execution_count": 0,
      "outputs": []
    },
    {
      "cell_type": "code",
      "metadata": {
        "id": "r6EDnLLa2gzE",
        "colab_type": "code",
        "colab": {}
      },
      "source": [
        "# Objective: reproduce the plot found in \"The Rise And Fall of Women’s College Basketball Dynasties\"\n",
        "# The plot depicts a model that predicts the # of tournament wins based on seed\n",
        "\n",
        "# to see the article visit: https://fivethirtyeight.com/features/louisiana-tech-was-the-uconn-of-the-80s/"
      ],
      "execution_count": 0,
      "outputs": []
    },
    {
      "cell_type": "code",
      "metadata": {
        "id": "2eMdBGoxH-9_",
        "colab_type": "code",
        "outputId": "a68a2502-a96d-40ac-a13d-f8148bdf47b1",
        "colab": {
          "base_uri": "https://localhost:8080/",
          "height": 202
        }
      },
      "source": [
        "!wget https://fivethirtyeight.com/wp-content/uploads/2019/03/Paine-womens-bball-programs.03tk-0305-1.png"
      ],
      "execution_count": 69,
      "outputs": [
        {
          "output_type": "stream",
          "text": [
            "--2020-05-15 04:51:09--  https://fivethirtyeight.com/wp-content/uploads/2019/03/Paine-womens-bball-programs.03tk-0305-1.png\n",
            "Resolving fivethirtyeight.com (fivethirtyeight.com)... 192.0.66.2\n",
            "Connecting to fivethirtyeight.com (fivethirtyeight.com)|192.0.66.2|:443... connected.\n",
            "HTTP request sent, awaiting response... 200 OK\n",
            "Length: 45842 (45K) [image/png]\n",
            "Saving to: ‘Paine-womens-bball-programs.03tk-0305-1.png.2’\n",
            "\n",
            "\r          Paine-wom   0%[                    ]       0  --.-KB/s               \rPaine-womens-bball- 100%[===================>]  44.77K  --.-KB/s    in 0.006s  \n",
            "\n",
            "2020-05-15 04:51:09 (7.39 MB/s) - ‘Paine-womens-bball-programs.03tk-0305-1.png.2’ saved [45842/45842]\n",
            "\n"
          ],
          "name": "stdout"
        }
      ]
    },
    {
      "cell_type": "code",
      "metadata": {
        "id": "Iv4R_emaIGXf",
        "colab_type": "code",
        "outputId": "826a0431-5219-4b0b-8785-7627373b9f22",
        "colab": {
          "base_uri": "https://localhost:8080/",
          "height": 558
        }
      },
      "source": [
        "# take a look at the original plot from the article\n",
        "\n",
        "from IPython.display import Image, display\n",
        "display(Image('Paine-womens-bball-programs.03tk-0305-1.png', width=600))"
      ],
      "execution_count": 70,
      "outputs": [
        {
          "output_type": "display_data",
          "data": {
            "image/png": "[encoded data removed]",
            "text/plain": [
              "<IPython.core.display.Image object>"
            ]
          },
          "metadata": {
            "tags": [],
            "image/png": {
              "width": 600
            }
          }
        }
      ]
    },
    {
      "cell_type": "code",
      "metadata": {
        "id": "8Bis593b4KIf",
        "colab_type": "code",
        "colab": {}
      },
      "source": [
        "import pandas as pd\n",
        "import matplotlib.pyplot as plt"
      ],
      "execution_count": 0,
      "outputs": []
    },
    {
      "cell_type": "code",
      "metadata": {
        "id": "qLSAKQ2D4QcI",
        "colab_type": "code",
        "outputId": "b90959a2-581e-436f-ea44-23b3680af7f1",
        "colab": {
          "base_uri": "https://localhost:8080/",
          "height": 229
        }
      },
      "source": [
        "url = 'https://raw.githubusercontent.com/fivethirtyeight/data/master/ncaa-womens-basketball-tournament/ncaa-womens-basketball-tournament-history.csv'\n",
        "basketball = pd.read_csv(url)\n",
        "basketball.head()"
      ],
      "execution_count": 72,
      "outputs": [
        {
          "output_type": "execute_result",
          "data": {
            "text/html": [
              "<div>\n",
              "<style scoped>\n",
              "    .dataframe tbody tr th:only-of-type {\n",
              "        vertical-align: middle;\n",
              "    }\n",
              "\n",
              "    .dataframe tbody tr th {\n",
              "        vertical-align: top;\n",
              "    }\n",
              "\n",
              "    .dataframe thead th {\n",
              "        text-align: right;\n",
              "    }\n",
              "</style>\n",
              "<table border=\"1\" class=\"dataframe\">\n",
              "  <thead>\n",
              "    <tr style=\"text-align: right;\">\n",
              "      <th></th>\n",
              "      <th>Year</th>\n",
              "      <th>School</th>\n",
              "      <th>Seed</th>\n",
              "      <th>Conference</th>\n",
              "      <th>Conf. W</th>\n",
              "      <th>Conf. L</th>\n",
              "      <th>Conf. %</th>\n",
              "      <th>Conf. place</th>\n",
              "      <th>Reg. W</th>\n",
              "      <th>Reg. L</th>\n",
              "      <th>Reg. %</th>\n",
              "      <th>How qual</th>\n",
              "      <th>1st game at home?</th>\n",
              "      <th>Tourney W</th>\n",
              "      <th>Tourney L</th>\n",
              "      <th>Tourney finish</th>\n",
              "      <th>Full W</th>\n",
              "      <th>Full L</th>\n",
              "      <th>Full %</th>\n",
              "    </tr>\n",
              "  </thead>\n",
              "  <tbody>\n",
              "    <tr>\n",
              "      <th>0</th>\n",
              "      <td>1982</td>\n",
              "      <td>Arizona St.</td>\n",
              "      <td>4</td>\n",
              "      <td>Western Collegiate</td>\n",
              "      <td>-</td>\n",
              "      <td>-</td>\n",
              "      <td>-</td>\n",
              "      <td>-</td>\n",
              "      <td>23</td>\n",
              "      <td>6</td>\n",
              "      <td>79.3</td>\n",
              "      <td>at-large</td>\n",
              "      <td>Y</td>\n",
              "      <td>1</td>\n",
              "      <td>1</td>\n",
              "      <td>RSF</td>\n",
              "      <td>24</td>\n",
              "      <td>7</td>\n",
              "      <td>77.4</td>\n",
              "    </tr>\n",
              "    <tr>\n",
              "      <th>1</th>\n",
              "      <td>1982</td>\n",
              "      <td>Auburn</td>\n",
              "      <td>7</td>\n",
              "      <td>Southeastern</td>\n",
              "      <td>-</td>\n",
              "      <td>-</td>\n",
              "      <td>-</td>\n",
              "      <td>-</td>\n",
              "      <td>24</td>\n",
              "      <td>4</td>\n",
              "      <td>85.7</td>\n",
              "      <td>at-large</td>\n",
              "      <td>N</td>\n",
              "      <td>0</td>\n",
              "      <td>1</td>\n",
              "      <td>1st</td>\n",
              "      <td>24</td>\n",
              "      <td>5</td>\n",
              "      <td>82.8</td>\n",
              "    </tr>\n",
              "    <tr>\n",
              "      <th>2</th>\n",
              "      <td>1982</td>\n",
              "      <td>Cheyney</td>\n",
              "      <td>2</td>\n",
              "      <td>Independent</td>\n",
              "      <td>-</td>\n",
              "      <td>-</td>\n",
              "      <td>-</td>\n",
              "      <td>-</td>\n",
              "      <td>24</td>\n",
              "      <td>2</td>\n",
              "      <td>92.3</td>\n",
              "      <td>at-large</td>\n",
              "      <td>Y</td>\n",
              "      <td>4</td>\n",
              "      <td>1</td>\n",
              "      <td>N2nd</td>\n",
              "      <td>28</td>\n",
              "      <td>3</td>\n",
              "      <td>90.3</td>\n",
              "    </tr>\n",
              "    <tr>\n",
              "      <th>3</th>\n",
              "      <td>1982</td>\n",
              "      <td>Clemson</td>\n",
              "      <td>5</td>\n",
              "      <td>Atlantic Coast</td>\n",
              "      <td>6</td>\n",
              "      <td>3</td>\n",
              "      <td>66.7</td>\n",
              "      <td>4th</td>\n",
              "      <td>20</td>\n",
              "      <td>11</td>\n",
              "      <td>64.5</td>\n",
              "      <td>at-large</td>\n",
              "      <td>N</td>\n",
              "      <td>0</td>\n",
              "      <td>1</td>\n",
              "      <td>1st</td>\n",
              "      <td>20</td>\n",
              "      <td>12</td>\n",
              "      <td>62.5</td>\n",
              "    </tr>\n",
              "    <tr>\n",
              "      <th>4</th>\n",
              "      <td>1982</td>\n",
              "      <td>Drake</td>\n",
              "      <td>4</td>\n",
              "      <td>Missouri Valley</td>\n",
              "      <td>-</td>\n",
              "      <td>-</td>\n",
              "      <td>-</td>\n",
              "      <td>-</td>\n",
              "      <td>26</td>\n",
              "      <td>6</td>\n",
              "      <td>81.3</td>\n",
              "      <td>auto</td>\n",
              "      <td>Y</td>\n",
              "      <td>2</td>\n",
              "      <td>1</td>\n",
              "      <td>RF</td>\n",
              "      <td>28</td>\n",
              "      <td>7</td>\n",
              "      <td>80</td>\n",
              "    </tr>\n",
              "  </tbody>\n",
              "</table>\n",
              "</div>"
            ],
            "text/plain": [
              "   Year       School Seed  ... Full W Full L Full %\n",
              "0  1982  Arizona St.    4  ...     24      7   77.4\n",
              "1  1982       Auburn    7  ...     24      5   82.8\n",
              "2  1982      Cheyney    2  ...     28      3   90.3\n",
              "3  1982      Clemson    5  ...     20     12   62.5\n",
              "4  1982        Drake    4  ...     28      7     80\n",
              "\n",
              "[5 rows x 19 columns]"
            ]
          },
          "metadata": {
            "tags": []
          },
          "execution_count": 72
        }
      ]
    },
    {
      "cell_type": "code",
      "metadata": {
        "id": "r09pSZ8D4kOI",
        "colab_type": "code",
        "outputId": "44568899-32bd-4327-b285-d6537cf1a5c7",
        "colab": {
          "base_uri": "https://localhost:8080/",
          "height": 195
        }
      },
      "source": [
        "# isolate relevant features/variables\n",
        "seeds_to_twins = basketball[['Seed', 'Tourney W']].copy()\n",
        "seeds_to_twins.head()"
      ],
      "execution_count": 73,
      "outputs": [
        {
          "output_type": "execute_result",
          "data": {
            "text/html": [
              "<div>\n",
              "<style scoped>\n",
              "    .dataframe tbody tr th:only-of-type {\n",
              "        vertical-align: middle;\n",
              "    }\n",
              "\n",
              "    .dataframe tbody tr th {\n",
              "        vertical-align: top;\n",
              "    }\n",
              "\n",
              "    .dataframe thead th {\n",
              "        text-align: right;\n",
              "    }\n",
              "</style>\n",
              "<table border=\"1\" class=\"dataframe\">\n",
              "  <thead>\n",
              "    <tr style=\"text-align: right;\">\n",
              "      <th></th>\n",
              "      <th>Seed</th>\n",
              "      <th>Tourney W</th>\n",
              "    </tr>\n",
              "  </thead>\n",
              "  <tbody>\n",
              "    <tr>\n",
              "      <th>0</th>\n",
              "      <td>4</td>\n",
              "      <td>1</td>\n",
              "    </tr>\n",
              "    <tr>\n",
              "      <th>1</th>\n",
              "      <td>7</td>\n",
              "      <td>0</td>\n",
              "    </tr>\n",
              "    <tr>\n",
              "      <th>2</th>\n",
              "      <td>2</td>\n",
              "      <td>4</td>\n",
              "    </tr>\n",
              "    <tr>\n",
              "      <th>3</th>\n",
              "      <td>5</td>\n",
              "      <td>0</td>\n",
              "    </tr>\n",
              "    <tr>\n",
              "      <th>4</th>\n",
              "      <td>4</td>\n",
              "      <td>2</td>\n",
              "    </tr>\n",
              "  </tbody>\n",
              "</table>\n",
              "</div>"
            ],
            "text/plain": [
              "  Seed  Tourney W\n",
              "0    4          1\n",
              "1    7          0\n",
              "2    2          4\n",
              "3    5          0\n",
              "4    4          2"
            ]
          },
          "metadata": {
            "tags": []
          },
          "execution_count": 73
        }
      ]
    },
    {
      "cell_type": "code",
      "metadata": {
        "id": "fwh935nL5oY9",
        "colab_type": "code",
        "outputId": "59a38470-acde-4890-b4e0-4c03ca7f6891",
        "colab": {
          "base_uri": "https://localhost:8080/",
          "height": 67
        }
      },
      "source": [
        "# inspect datatypes for each column - seeds are (unexpectedly) strings, not ints\n",
        "seeds_to_twins.dtypes"
      ],
      "execution_count": 74,
      "outputs": [
        {
          "output_type": "execute_result",
          "data": {
            "text/plain": [
              "Seed         object\n",
              "Tourney W     int64\n",
              "dtype: object"
            ]
          },
          "metadata": {
            "tags": []
          },
          "execution_count": 74
        }
      ]
    },
    {
      "cell_type": "code",
      "metadata": {
        "id": "VHtBvYFQLsat",
        "colab_type": "code",
        "colab": {}
      },
      "source": [
        "# special note: teams who won open round (OR) in 1983 became the 8th seed in the region\n",
        "\n",
        "# option 1: drop all rows with '(OR)' as the seed value\n",
        "# seeds_to_twins = seeds_to_twins[seeds_to_twins['Seed'] != '(OR)']"
      ],
      "execution_count": 0,
      "outputs": []
    },
    {
      "cell_type": "code",
      "metadata": {
        "id": "uoYX3Mlb5zNR",
        "colab_type": "code",
        "outputId": "4e23d89d-158c-4233-8b40-10a8181832f3",
        "colab": {
          "base_uri": "https://localhost:8080/",
          "height": 195
        }
      },
      "source": [
        "# option 2: convert '(OR)' seed values to 8\n",
        "# convert seed to ints\n",
        "\n",
        "def seed_to_int(seed_str):\n",
        "  if seed_str == '(OR)':\n",
        "    return 8\n",
        "  return int(seed_str)\n",
        "\n",
        "seeds_to_twins['SeedInt'] = seeds_to_twins['Seed'].apply(seed_to_int)\n",
        "seeds_to_twins.head()"
      ],
      "execution_count": 76,
      "outputs": [
        {
          "output_type": "execute_result",
          "data": {
            "text/html": [
              "<div>\n",
              "<style scoped>\n",
              "    .dataframe tbody tr th:only-of-type {\n",
              "        vertical-align: middle;\n",
              "    }\n",
              "\n",
              "    .dataframe tbody tr th {\n",
              "        vertical-align: top;\n",
              "    }\n",
              "\n",
              "    .dataframe thead th {\n",
              "        text-align: right;\n",
              "    }\n",
              "</style>\n",
              "<table border=\"1\" class=\"dataframe\">\n",
              "  <thead>\n",
              "    <tr style=\"text-align: right;\">\n",
              "      <th></th>\n",
              "      <th>Seed</th>\n",
              "      <th>Tourney W</th>\n",
              "      <th>SeedInt</th>\n",
              "    </tr>\n",
              "  </thead>\n",
              "  <tbody>\n",
              "    <tr>\n",
              "      <th>0</th>\n",
              "      <td>4</td>\n",
              "      <td>1</td>\n",
              "      <td>4</td>\n",
              "    </tr>\n",
              "    <tr>\n",
              "      <th>1</th>\n",
              "      <td>7</td>\n",
              "      <td>0</td>\n",
              "      <td>7</td>\n",
              "    </tr>\n",
              "    <tr>\n",
              "      <th>2</th>\n",
              "      <td>2</td>\n",
              "      <td>4</td>\n",
              "      <td>2</td>\n",
              "    </tr>\n",
              "    <tr>\n",
              "      <th>3</th>\n",
              "      <td>5</td>\n",
              "      <td>0</td>\n",
              "      <td>5</td>\n",
              "    </tr>\n",
              "    <tr>\n",
              "      <th>4</th>\n",
              "      <td>4</td>\n",
              "      <td>2</td>\n",
              "      <td>4</td>\n",
              "    </tr>\n",
              "  </tbody>\n",
              "</table>\n",
              "</div>"
            ],
            "text/plain": [
              "  Seed  Tourney W  SeedInt\n",
              "0    4          1        4\n",
              "1    7          0        7\n",
              "2    2          4        2\n",
              "3    5          0        5\n",
              "4    4          2        4"
            ]
          },
          "metadata": {
            "tags": []
          },
          "execution_count": 76
        }
      ]
    },
    {
      "cell_type": "code",
      "metadata": {
        "id": "veU00uvN5JhI",
        "colab_type": "code",
        "outputId": "35f1963d-cb52-4c54-d73e-8533b3731eeb",
        "colab": {
          "base_uri": "https://localhost:8080/",
          "height": 550
        }
      },
      "source": [
        "# determine the average # of wins for each seed\n",
        "avg_wins_by_seed = seeds_to_twins.groupby('SeedInt').mean().sort_index()\n",
        "avg_wins_by_seed"
      ],
      "execution_count": 77,
      "outputs": [
        {
          "output_type": "execute_result",
          "data": {
            "text/html": [
              "<div>\n",
              "<style scoped>\n",
              "    .dataframe tbody tr th:only-of-type {\n",
              "        vertical-align: middle;\n",
              "    }\n",
              "\n",
              "    .dataframe tbody tr th {\n",
              "        vertical-align: top;\n",
              "    }\n",
              "\n",
              "    .dataframe thead th {\n",
              "        text-align: right;\n",
              "    }\n",
              "</style>\n",
              "<table border=\"1\" class=\"dataframe\">\n",
              "  <thead>\n",
              "    <tr style=\"text-align: right;\">\n",
              "      <th></th>\n",
              "      <th>Tourney W</th>\n",
              "    </tr>\n",
              "    <tr>\n",
              "      <th>SeedInt</th>\n",
              "      <th></th>\n",
              "    </tr>\n",
              "  </thead>\n",
              "  <tbody>\n",
              "    <tr>\n",
              "      <th>1</th>\n",
              "      <td>3.483221</td>\n",
              "    </tr>\n",
              "    <tr>\n",
              "      <th>2</th>\n",
              "      <td>2.482993</td>\n",
              "    </tr>\n",
              "    <tr>\n",
              "      <th>3</th>\n",
              "      <td>1.791946</td>\n",
              "    </tr>\n",
              "    <tr>\n",
              "      <th>4</th>\n",
              "      <td>1.567568</td>\n",
              "    </tr>\n",
              "    <tr>\n",
              "      <th>5</th>\n",
              "      <td>0.993289</td>\n",
              "    </tr>\n",
              "    <tr>\n",
              "      <th>6</th>\n",
              "      <td>0.850340</td>\n",
              "    </tr>\n",
              "    <tr>\n",
              "      <th>7</th>\n",
              "      <td>0.724832</td>\n",
              "    </tr>\n",
              "    <tr>\n",
              "      <th>8</th>\n",
              "      <td>0.516779</td>\n",
              "    </tr>\n",
              "    <tr>\n",
              "      <th>9</th>\n",
              "      <td>0.534351</td>\n",
              "    </tr>\n",
              "    <tr>\n",
              "      <th>10</th>\n",
              "      <td>0.424242</td>\n",
              "    </tr>\n",
              "    <tr>\n",
              "      <th>11</th>\n",
              "      <td>0.433333</td>\n",
              "    </tr>\n",
              "    <tr>\n",
              "      <th>12</th>\n",
              "      <td>0.227642</td>\n",
              "    </tr>\n",
              "    <tr>\n",
              "      <th>13</th>\n",
              "      <td>0.090909</td>\n",
              "    </tr>\n",
              "    <tr>\n",
              "      <th>14</th>\n",
              "      <td>0.000000</td>\n",
              "    </tr>\n",
              "    <tr>\n",
              "      <th>15</th>\n",
              "      <td>0.000000</td>\n",
              "    </tr>\n",
              "    <tr>\n",
              "      <th>16</th>\n",
              "      <td>0.039604</td>\n",
              "    </tr>\n",
              "  </tbody>\n",
              "</table>\n",
              "</div>"
            ],
            "text/plain": [
              "         Tourney W\n",
              "SeedInt           \n",
              "1         3.483221\n",
              "2         2.482993\n",
              "3         1.791946\n",
              "4         1.567568\n",
              "5         0.993289\n",
              "6         0.850340\n",
              "7         0.724832\n",
              "8         0.516779\n",
              "9         0.534351\n",
              "10        0.424242\n",
              "11        0.433333\n",
              "12        0.227642\n",
              "13        0.090909\n",
              "14        0.000000\n",
              "15        0.000000\n",
              "16        0.039604"
            ]
          },
          "metadata": {
            "tags": []
          },
          "execution_count": 77
        }
      ]
    },
    {
      "cell_type": "code",
      "metadata": {
        "id": "2Rbfpdhh8FuI",
        "colab_type": "code",
        "outputId": "da2dded7-ffe9-43f2-e3bc-ebcd87d99eb9",
        "colab": {
          "base_uri": "https://localhost:8080/",
          "height": 225
        }
      },
      "source": [
        "# convert to 100-point scale\n",
        "max_avg = avg_wins_by_seed['Tourney W'].max()\n",
        "avg_wins_by_seed['WinPoints'] = avg_wins_by_seed['Tourney W'] / max_avg * 100\n",
        "avg_wins_by_seed.head()"
      ],
      "execution_count": 78,
      "outputs": [
        {
          "output_type": "execute_result",
          "data": {
            "text/html": [
              "<div>\n",
              "<style scoped>\n",
              "    .dataframe tbody tr th:only-of-type {\n",
              "        vertical-align: middle;\n",
              "    }\n",
              "\n",
              "    .dataframe tbody tr th {\n",
              "        vertical-align: top;\n",
              "    }\n",
              "\n",
              "    .dataframe thead th {\n",
              "        text-align: right;\n",
              "    }\n",
              "</style>\n",
              "<table border=\"1\" class=\"dataframe\">\n",
              "  <thead>\n",
              "    <tr style=\"text-align: right;\">\n",
              "      <th></th>\n",
              "      <th>Tourney W</th>\n",
              "      <th>WinPoints</th>\n",
              "    </tr>\n",
              "    <tr>\n",
              "      <th>SeedInt</th>\n",
              "      <th></th>\n",
              "      <th></th>\n",
              "    </tr>\n",
              "  </thead>\n",
              "  <tbody>\n",
              "    <tr>\n",
              "      <th>1</th>\n",
              "      <td>3.483221</td>\n",
              "      <td>100.000000</td>\n",
              "    </tr>\n",
              "    <tr>\n",
              "      <th>2</th>\n",
              "      <td>2.482993</td>\n",
              "      <td>71.284390</td>\n",
              "    </tr>\n",
              "    <tr>\n",
              "      <th>3</th>\n",
              "      <td>1.791946</td>\n",
              "      <td>51.445087</td>\n",
              "    </tr>\n",
              "    <tr>\n",
              "      <th>4</th>\n",
              "      <td>1.567568</td>\n",
              "      <td>45.003385</td>\n",
              "    </tr>\n",
              "    <tr>\n",
              "      <th>5</th>\n",
              "      <td>0.993289</td>\n",
              "      <td>28.516378</td>\n",
              "    </tr>\n",
              "  </tbody>\n",
              "</table>\n",
              "</div>"
            ],
            "text/plain": [
              "         Tourney W   WinPoints\n",
              "SeedInt                       \n",
              "1         3.483221  100.000000\n",
              "2         2.482993   71.284390\n",
              "3         1.791946   51.445087\n",
              "4         1.567568   45.003385\n",
              "5         0.993289   28.516378"
            ]
          },
          "metadata": {
            "tags": []
          },
          "execution_count": 78
        }
      ]
    },
    {
      "cell_type": "code",
      "metadata": {
        "id": "PKKgay7F7ljq",
        "colab_type": "code",
        "outputId": "7937027a-246e-4e91-a111-ad1703cfee1b",
        "colab": {
          "base_uri": "https://localhost:8080/",
          "height": 507
        }
      },
      "source": [
        "import numpy as np\n",
        "import seaborn as sns\n",
        "\n",
        "# set style, specify number of axes (rows and columns)\n",
        "# and get reference to axis (not array since only 1 axis was created)\n",
        "plt.style.use('fivethirtyeight')\n",
        "fig, ax = plt.subplots(1,1,figsize=(8,6))\n",
        "\n",
        "# generate dummy data\n",
        "seeds = pd.Series(np.linspace(1,16,1000)) # 1000 values in interval: [0, 16)\n",
        "points = 100 / seeds                      # broadcasting\n",
        "\n",
        "# set color for plot, draw curve and shade in area between curve and axes\n",
        "color = '#fc7303'\n",
        "ax.plot(seeds, points, color=color);\n",
        "plt.fill_between(seeds, points, color=color, alpha=0.5);\n",
        "\n",
        "# Set the title and subtitle\n",
        "ax.set_title('How much is that seed worth?',\n",
        "             fontweight='600',\n",
        "             fontsize=20,\n",
        "             x=.2,\n",
        "             y=1.20)\n",
        "ax.text(s=\"Modeled value (on a 100-point scale) of a seed in the women's NCAA\\ntournament, based on the expected tournament wins per seed\",\n",
        "        fontweight='200',\n",
        "        fontsize=16,\n",
        "        x=-2.1,\n",
        "        y=115)\n",
        "\n",
        "# set the x and y axes labels\n",
        "ax.set_xlabel(\"Tournament seed\", fontsize=14, fontweight='bold', linespacing=2)\n",
        "ax.set_ylabel(\"Seed points\", fontsize=14, fontweight='bold', linespacing=2)\n",
        "\n",
        "# Fix the x an y axis tick marks and grid\n",
        "ax.set_xticks(range(1,17,3))\n",
        "ax.set_xticklabels(range(1,17,3), fontsize=14, alpha=0.5)\n",
        "ax.set_yticks(range(0,101,20))\n",
        "ax.set_yticklabels(range(0,101,20), fontsize=14, alpha=0.5);"
      ],
      "execution_count": 79,
      "outputs": [
        {
          "output_type": "display_data",
          "data": {
            "image/png": "[encoded data removed]",
            "text/plain": [
              "<Figure size 576x432 with 1 Axes>"
            ]
          },
          "metadata": {
            "tags": []
          }
        }
      ]
    },
    {
      "cell_type": "code",
      "metadata": {
        "id": "KrwRVDsJLfGk",
        "colab_type": "code",
        "colab": {
          "base_uri": "https://localhost:8080/",
          "height": 558
        },
        "outputId": "fce50574-45c9-4b67-d680-bd4a86c30afb"
      },
      "source": [
        "# take another look at the original plot\n",
        "\n",
        "from IPython.display import Image, display\n",
        "display(Image('Paine-womens-bball-programs.03tk-0305-1.png', width=600))"
      ],
      "execution_count": 80,
      "outputs": [
        {
          "output_type": "display_data",
          "data": {
            "image/png": "[encoded data removed]",
            "text/plain": [
              "<IPython.core.display.Image object>"
            ]
          },
          "metadata": {
            "tags": [],
            "image/png": {
              "width": 600
            }
          }
        }
      ]
    },
    {
      "cell_type": "markdown",
      "metadata": {
        "id": "0wSrBzmJyWaV",
        "colab_type": "text"
      },
      "source": [
        "# STRETCH OPTIONS\n",
        "\n",
        "### 1) Reproduce one of the following using the matplotlib or seaborn libraries:\n",
        "\n",
        "- [thanksgiving-2015](https://fivethirtyeight.com/features/heres-what-your-part-of-america-eats-on-thanksgiving/) \n",
        "- [candy-power-ranking](https://fivethirtyeight.com/features/the-ultimate-halloween-candy-power-ranking/) \n",
        "- or another example of your choice!\n",
        "\n",
        "### 2) Make more charts!\n",
        "\n",
        "Choose a chart you want to make, from [Visual Vocabulary - Vega Edition](http://ft.com/vocabulary).\n",
        "\n",
        "Find the chart in an example gallery of a Python data visualization library:\n",
        "- [Seaborn](http://seaborn.pydata.org/examples/index.html)\n",
        "- [Altair](https://altair-viz.github.io/gallery/index.html)\n",
        "- [Matplotlib](https://matplotlib.org/gallery.html)\n",
        "- [Pandas](https://pandas.pydata.org/pandas-docs/stable/visualization.html)\n",
        "\n",
        "Reproduce the chart. [Optionally, try the \"Ben Franklin Method.\"](https://docs.google.com/document/d/1ubOw9B3Hfip27hF2ZFnW3a3z9xAgrUDRReOEo-FHCVs/edit) If you want, experiment and make changes.\n",
        "\n",
        "Take notes. Consider sharing your work with your cohort!"
      ]
    },
    {
      "cell_type": "code",
      "metadata": {
        "id": "dRJkKftiy5BJ",
        "colab_type": "code",
        "colab": {
          "base_uri": "https://localhost:8080/",
          "height": 1000
        },
        "outputId": "119e9634-5f1a-4216-8ca5-8d1fadd3a8ac"
      },
      "source": [
        "# thanksgiving map\n",
        "url = 'https://raw.githubusercontent.com/fivethirtyeight/data/master/thanksgiving-2015/thanksgiving-2015-poll-data.csv'\n",
        "\n",
        "thanksgiving = pd.read_csv(url)\n",
        "tg_columns = thanksgiving.columns\n",
        "tg_columns"
      ],
      "execution_count": 81,
      "outputs": [
        {
          "output_type": "execute_result",
          "data": {
            "text/plain": [
              "Index(['RespondentID', 'Do you celebrate Thanksgiving?',\n",
              "       'What is typically the main dish at your Thanksgiving dinner?',\n",
              "       'What is typically the main dish at your Thanksgiving dinner? - Other (please specify)',\n",
              "       'How is the main dish typically cooked?',\n",
              "       'How is the main dish typically cooked? - Other (please specify)',\n",
              "       'What kind of stuffing/dressing do you typically have?',\n",
              "       'What kind of stuffing/dressing do you typically have? - Other (please specify)',\n",
              "       'What type of cranberry saucedo you typically have?',\n",
              "       'What type of cranberry saucedo you typically have? - Other (please specify)',\n",
              "       'Do you typically have gravy?',\n",
              "       'Which of these side dishes aretypically served at your Thanksgiving dinner? Please select all that apply. - Brussel sprouts',\n",
              "       'Which of these side dishes aretypically served at your Thanksgiving dinner? Please select all that apply. - Carrots',\n",
              "       'Which of these side dishes aretypically served at your Thanksgiving dinner? Please select all that apply. - Cauliflower',\n",
              "       'Which of these side dishes aretypically served at your Thanksgiving dinner? Please select all that apply. - Corn',\n",
              "       'Which of these side dishes aretypically served at your Thanksgiving dinner? Please select all that apply. - Cornbread',\n",
              "       'Which of these side dishes aretypically served at your Thanksgiving dinner? Please select all that apply. - Fruit salad',\n",
              "       'Which of these side dishes aretypically served at your Thanksgiving dinner? Please select all that apply. - Green beans/green bean casserole',\n",
              "       'Which of these side dishes aretypically served at your Thanksgiving dinner? Please select all that apply. - Macaroni and cheese',\n",
              "       'Which of these side dishes aretypically served at your Thanksgiving dinner? Please select all that apply. - Mashed potatoes',\n",
              "       'Which of these side dishes aretypically served at your Thanksgiving dinner? Please select all that apply. - Rolls/biscuits',\n",
              "       'Which of these side dishes aretypically served at your Thanksgiving dinner? Please select all that apply. - Squash',\n",
              "       'Which of these side dishes aretypically served at your Thanksgiving dinner? Please select all that apply. - Vegetable salad',\n",
              "       'Which of these side dishes aretypically served at your Thanksgiving dinner? Please select all that apply. - Yams/sweet potato casserole',\n",
              "       'Which of these side dishes aretypically served at your Thanksgiving dinner? Please select all that apply. - Other (please specify)',\n",
              "       'Which of these side dishes aretypically served at your Thanksgiving dinner? Please select all that apply. - Other (please specify).1',\n",
              "       'Which type of pie is typically served at your Thanksgiving dinner? Please select all that apply. - Apple',\n",
              "       'Which type of pie is typically served at your Thanksgiving dinner? Please select all that apply. - Buttermilk',\n",
              "       'Which type of pie is typically served at your Thanksgiving dinner? Please select all that apply. - Cherry',\n",
              "       'Which type of pie is typically served at your Thanksgiving dinner? Please select all that apply. - Chocolate',\n",
              "       'Which type of pie is typically served at your Thanksgiving dinner? Please select all that apply. - Coconut cream',\n",
              "       'Which type of pie is typically served at your Thanksgiving dinner? Please select all that apply. - Key lime',\n",
              "       'Which type of pie is typically served at your Thanksgiving dinner? Please select all that apply. - Peach',\n",
              "       'Which type of pie is typically served at your Thanksgiving dinner? Please select all that apply. - Pecan',\n",
              "       'Which type of pie is typically served at your Thanksgiving dinner? Please select all that apply. - Pumpkin',\n",
              "       'Which type of pie is typically served at your Thanksgiving dinner? Please select all that apply. - Sweet Potato',\n",
              "       'Which type of pie is typically served at your Thanksgiving dinner? Please select all that apply. - None',\n",
              "       'Which type of pie is typically served at your Thanksgiving dinner? Please select all that apply. - Other (please specify)',\n",
              "       'Which type of pie is typically served at your Thanksgiving dinner? Please select all that apply. - Other (please specify).1',\n",
              "       'Which of these desserts do you typically have at Thanksgiving dinner? Please select all that apply.   - Apple cobbler',\n",
              "       'Which of these desserts do you typically have at Thanksgiving dinner? Please select all that apply.   - Blondies',\n",
              "       'Which of these desserts do you typically have at Thanksgiving dinner? Please select all that apply.   - Brownies',\n",
              "       'Which of these desserts do you typically have at Thanksgiving dinner? Please select all that apply.   - Carrot cake',\n",
              "       'Which of these desserts do you typically have at Thanksgiving dinner? Please select all that apply.   - Cheesecake',\n",
              "       'Which of these desserts do you typically have at Thanksgiving dinner? Please select all that apply.   - Cookies',\n",
              "       'Which of these desserts do you typically have at Thanksgiving dinner? Please select all that apply.   - Fudge',\n",
              "       'Which of these desserts do you typically have at Thanksgiving dinner? Please select all that apply.   - Ice cream',\n",
              "       'Which of these desserts do you typically have at Thanksgiving dinner? Please select all that apply.   - Peach cobbler',\n",
              "       'Which of these desserts do you typically have at Thanksgiving dinner? Please select all that apply.   - None',\n",
              "       'Which of these desserts do you typically have at Thanksgiving dinner? Please select all that apply.   - Other (please specify)',\n",
              "       'Which of these desserts do you typically have at Thanksgiving dinner? Please select all that apply.   - Other (please specify).1',\n",
              "       'Do you typically pray before or after the Thanksgiving meal?',\n",
              "       'How far will you travel for Thanksgiving?',\n",
              "       'Will you watch any of the following programs on Thanksgiving? Please select all that apply. - Macy's Parade',\n",
              "       'What's the age cutoff at your \"kids' table\" at Thanksgiving?',\n",
              "       'Have you ever tried to meet up with hometown friends on Thanksgiving night?',\n",
              "       'Have you ever attended a \"Friendsgiving?\"',\n",
              "       'Will you shop any Black Friday sales on Thanksgiving Day?',\n",
              "       'Do you work in retail?',\n",
              "       'Will you employer make you work on Black Friday?',\n",
              "       'How would you describe where you live?', 'Age', 'What is your gender?',\n",
              "       'How much total combined money did all members of your HOUSEHOLD earn last year?',\n",
              "       'US Region'],\n",
              "      dtype='object')"
            ]
          },
          "metadata": {
            "tags": []
          },
          "execution_count": 81
        }
      ]
    },
    {
      "cell_type": "code",
      "metadata": {
        "id": "sgmSdnDMEM71",
        "colab_type": "code",
        "colab": {
          "base_uri": "https://localhost:8080/",
          "height": 269
        },
        "outputId": "a7d60eff-ff4f-4828-ea54-30389ba85a53"
      },
      "source": [
        "# find relevant header names\n",
        "region_str = tg_columns[-1]\n",
        "print(region_str)\n",
        "side_dishes = tg_columns[11:24]\n",
        "print(side_dishes)"
      ],
      "execution_count": 82,
      "outputs": [
        {
          "output_type": "stream",
          "text": [
            "US Region\n",
            "Index(['Which of these side dishes aretypically served at your Thanksgiving dinner? Please select all that apply. - Brussel sprouts',\n",
            "       'Which of these side dishes aretypically served at your Thanksgiving dinner? Please select all that apply. - Carrots',\n",
            "       'Which of these side dishes aretypically served at your Thanksgiving dinner? Please select all that apply. - Cauliflower',\n",
            "       'Which of these side dishes aretypically served at your Thanksgiving dinner? Please select all that apply. - Corn',\n",
            "       'Which of these side dishes aretypically served at your Thanksgiving dinner? Please select all that apply. - Cornbread',\n",
            "       'Which of these side dishes aretypically served at your Thanksgiving dinner? Please select all that apply. - Fruit salad',\n",
            "       'Which of these side dishes aretypically served at your Thanksgiving dinner? Please select all that apply. - Green beans/green bean casserole',\n",
            "       'Which of these side dishes aretypically served at your Thanksgiving dinner? Please select all that apply. - Macaroni and cheese',\n",
            "       'Which of these side dishes aretypically served at your Thanksgiving dinner? Please select all that apply. - Mashed potatoes',\n",
            "       'Which of these side dishes aretypically served at your Thanksgiving dinner? Please select all that apply. - Rolls/biscuits',\n",
            "       'Which of these side dishes aretypically served at your Thanksgiving dinner? Please select all that apply. - Squash',\n",
            "       'Which of these side dishes aretypically served at your Thanksgiving dinner? Please select all that apply. - Vegetable salad',\n",
            "       'Which of these side dishes aretypically served at your Thanksgiving dinner? Please select all that apply. - Yams/sweet potato casserole'],\n",
            "      dtype='object')\n"
          ],
          "name": "stdout"
        }
      ]
    },
    {
      "cell_type": "code",
      "metadata": {
        "id": "4J8yIQLYDFva",
        "colab_type": "code",
        "colab": {
          "base_uri": "https://localhost:8080/",
          "height": 635
        },
        "outputId": "2fd2ce5a-f2d1-4d52-dcc9-5ad49b7e7994"
      },
      "source": [
        "meal_by_region = thanksgiving[[region_str, *side_dishes]]\n",
        "meal_by_region.head()"
      ],
      "execution_count": 83,
      "outputs": [
        {
          "output_type": "execute_result",
          "data": {
            "text/html": [
              "<div>\n",
              "<style scoped>\n",
              "    .dataframe tbody tr th:only-of-type {\n",
              "        vertical-align: middle;\n",
              "    }\n",
              "\n",
              "    .dataframe tbody tr th {\n",
              "        vertical-align: top;\n",
              "    }\n",
              "\n",
              "    .dataframe thead th {\n",
              "        text-align: right;\n",
              "    }\n",
              "</style>\n",
              "<table border=\"1\" class=\"dataframe\">\n",
              "  <thead>\n",
              "    <tr style=\"text-align: right;\">\n",
              "      <th></th>\n",
              "      <th>US Region</th>\n",
              "      <th>Which of these side dishes aretypically served at your Thanksgiving dinner? Please select all that apply. - Brussel sprouts</th>\n",
              "      <th>Which of these side dishes aretypically served at your Thanksgiving dinner? Please select all that apply. - Carrots</th>\n",
              "      <th>Which of these side dishes aretypically served at your Thanksgiving dinner? Please select all that apply. - Cauliflower</th>\n",
              "      <th>Which of these side dishes aretypically served at your Thanksgiving dinner? Please select all that apply. - Corn</th>\n",
              "      <th>Which of these side dishes aretypically served at your Thanksgiving dinner? Please select all that apply. - Cornbread</th>\n",
              "      <th>Which of these side dishes aretypically served at your Thanksgiving dinner? Please select all that apply. - Fruit salad</th>\n",
              "      <th>Which of these side dishes aretypically served at your Thanksgiving dinner? Please select all that apply. - Green beans/green bean casserole</th>\n",
              "      <th>Which of these side dishes aretypically served at your Thanksgiving dinner? Please select all that apply. - Macaroni and cheese</th>\n",
              "      <th>Which of these side dishes aretypically served at your Thanksgiving dinner? Please select all that apply. - Mashed potatoes</th>\n",
              "      <th>Which of these side dishes aretypically served at your Thanksgiving dinner? Please select all that apply. - Rolls/biscuits</th>\n",
              "      <th>Which of these side dishes aretypically served at your Thanksgiving dinner? Please select all that apply. - Squash</th>\n",
              "      <th>Which of these side dishes aretypically served at your Thanksgiving dinner? Please select all that apply. - Vegetable salad</th>\n",
              "      <th>Which of these side dishes aretypically served at your Thanksgiving dinner? Please select all that apply. - Yams/sweet potato casserole</th>\n",
              "    </tr>\n",
              "  </thead>\n",
              "  <tbody>\n",
              "    <tr>\n",
              "      <th>0</th>\n",
              "      <td>Middle Atlantic</td>\n",
              "      <td>NaN</td>\n",
              "      <td>Carrots</td>\n",
              "      <td>NaN</td>\n",
              "      <td>NaN</td>\n",
              "      <td>NaN</td>\n",
              "      <td>NaN</td>\n",
              "      <td>Green beans/green bean casserole</td>\n",
              "      <td>Macaroni and cheese</td>\n",
              "      <td>Mashed potatoes</td>\n",
              "      <td>NaN</td>\n",
              "      <td>NaN</td>\n",
              "      <td>NaN</td>\n",
              "      <td>Yams/sweet potato casserole</td>\n",
              "    </tr>\n",
              "    <tr>\n",
              "      <th>1</th>\n",
              "      <td>East South Central</td>\n",
              "      <td>NaN</td>\n",
              "      <td>NaN</td>\n",
              "      <td>NaN</td>\n",
              "      <td>Corn</td>\n",
              "      <td>NaN</td>\n",
              "      <td>NaN</td>\n",
              "      <td>Green beans/green bean casserole</td>\n",
              "      <td>Macaroni and cheese</td>\n",
              "      <td>Mashed potatoes</td>\n",
              "      <td>Rolls/biscuits</td>\n",
              "      <td>NaN</td>\n",
              "      <td>Vegetable salad</td>\n",
              "      <td>Yams/sweet potato casserole</td>\n",
              "    </tr>\n",
              "    <tr>\n",
              "      <th>2</th>\n",
              "      <td>Mountain</td>\n",
              "      <td>Brussel sprouts</td>\n",
              "      <td>Carrots</td>\n",
              "      <td>Cauliflower</td>\n",
              "      <td>Corn</td>\n",
              "      <td>Cornbread</td>\n",
              "      <td>NaN</td>\n",
              "      <td>NaN</td>\n",
              "      <td>NaN</td>\n",
              "      <td>Mashed potatoes</td>\n",
              "      <td>Rolls/biscuits</td>\n",
              "      <td>NaN</td>\n",
              "      <td>Vegetable salad</td>\n",
              "      <td>NaN</td>\n",
              "    </tr>\n",
              "    <tr>\n",
              "      <th>3</th>\n",
              "      <td>Pacific</td>\n",
              "      <td>Brussel sprouts</td>\n",
              "      <td>NaN</td>\n",
              "      <td>NaN</td>\n",
              "      <td>NaN</td>\n",
              "      <td>Cornbread</td>\n",
              "      <td>NaN</td>\n",
              "      <td>NaN</td>\n",
              "      <td>NaN</td>\n",
              "      <td>Mashed potatoes</td>\n",
              "      <td>Rolls/biscuits</td>\n",
              "      <td>NaN</td>\n",
              "      <td>Vegetable salad</td>\n",
              "      <td>Yams/sweet potato casserole</td>\n",
              "    </tr>\n",
              "    <tr>\n",
              "      <th>4</th>\n",
              "      <td>Pacific</td>\n",
              "      <td>Brussel sprouts</td>\n",
              "      <td>NaN</td>\n",
              "      <td>NaN</td>\n",
              "      <td>NaN</td>\n",
              "      <td>Cornbread</td>\n",
              "      <td>NaN</td>\n",
              "      <td>NaN</td>\n",
              "      <td>NaN</td>\n",
              "      <td>Mashed potatoes</td>\n",
              "      <td>Rolls/biscuits</td>\n",
              "      <td>Squash</td>\n",
              "      <td>Vegetable salad</td>\n",
              "      <td>Yams/sweet potato casserole</td>\n",
              "    </tr>\n",
              "  </tbody>\n",
              "</table>\n",
              "</div>"
            ],
            "text/plain": [
              "            US Region  ... Which of these side dishes aretypically served at your Thanksgiving dinner? Please select all that apply. - Yams/sweet potato casserole\n",
              "0     Middle Atlantic  ...                        Yams/sweet potato casserole                                                                                     \n",
              "1  East South Central  ...                        Yams/sweet potato casserole                                                                                     \n",
              "2            Mountain  ...                                                NaN                                                                                     \n",
              "3             Pacific  ...                        Yams/sweet potato casserole                                                                                     \n",
              "4             Pacific  ...                        Yams/sweet potato casserole                                                                                     \n",
              "\n",
              "[5 rows x 14 columns]"
            ]
          },
          "metadata": {
            "tags": []
          },
          "execution_count": 83
        }
      ]
    },
    {
      "cell_type": "code",
      "metadata": {
        "id": "OzhuvSn0CJbW",
        "colab_type": "code",
        "colab": {
          "base_uri": "https://localhost:8080/",
          "height": 168
        },
        "outputId": "4aae1326-6582-4c80-9452-bafc9be581db"
      },
      "source": [
        "regions = list(meal_by_region[region_str].unique())[:-1]\n",
        "regions"
      ],
      "execution_count": 84,
      "outputs": [
        {
          "output_type": "execute_result",
          "data": {
            "text/plain": [
              "['Middle Atlantic',\n",
              " 'East South Central',\n",
              " 'Mountain',\n",
              " 'Pacific',\n",
              " 'East North Central',\n",
              " 'West North Central',\n",
              " 'West South Central',\n",
              " 'South Atlantic',\n",
              " 'New England']"
            ]
          },
          "metadata": {
            "tags": []
          },
          "execution_count": 84
        }
      ]
    },
    {
      "cell_type": "code",
      "metadata": {
        "id": "jXbskYk9DbZE",
        "colab_type": "code",
        "colab": {
          "base_uri": "https://localhost:8080/",
          "height": 1000
        },
        "outputId": "cb45d97e-e90d-4180-b66f-c2dc96d03221"
      },
      "source": [
        "meals = []\n",
        "for dish in side_dishes:\n",
        "  l = dish.split()\n",
        "  idx = l.index('-')\n",
        "  meals.append(\" \".join(l[l.index('-')+1:]))\n",
        "\n",
        "meal_dict = {region: {meal: 0 for meal in meals} for region in regions}\n",
        "\n",
        "\n",
        "for region in regions:\n",
        "  region_df = meal_by_region[meal_by_region[region_str] == region]\n",
        "  rows = region_df.shape[0]\n",
        "  for meal, dish in zip(meals, side_dishes):\n",
        "    meal_dict[region][meal] = rows - region_df[dish].isnull().sum()\n",
        "\n",
        "meal_dict"
      ],
      "execution_count": 85,
      "outputs": [
        {
          "output_type": "execute_result",
          "data": {
            "text/plain": [
              "{'East North Central': {'Brussel sprouts': 22,\n",
              "  'Carrots': 28,\n",
              "  'Cauliflower': 13,\n",
              "  'Corn': 76,\n",
              "  'Cornbread': 23,\n",
              "  'Fruit salad': 20,\n",
              "  'Green beans/green bean casserole': 103,\n",
              "  'Macaroni and cheese': 21,\n",
              "  'Mashed potatoes': 127,\n",
              "  'Rolls/biscuits': 123,\n",
              "  'Squash': 15,\n",
              "  'Vegetable salad': 26,\n",
              "  'Yams/sweet potato casserole': 90},\n",
              " 'East South Central': {'Brussel sprouts': 7,\n",
              "  'Carrots': 15,\n",
              "  'Cauliflower': 5,\n",
              "  'Corn': 31,\n",
              "  'Cornbread': 16,\n",
              "  'Fruit salad': 20,\n",
              "  'Green beans/green bean casserole': 49,\n",
              "  'Macaroni and cheese': 21,\n",
              "  'Mashed potatoes': 45,\n",
              "  'Rolls/biscuits': 49,\n",
              "  'Squash': 12,\n",
              "  'Vegetable salad': 8,\n",
              "  'Yams/sweet potato casserole': 44},\n",
              " 'Middle Atlantic': {'Brussel sprouts': 41,\n",
              "  'Carrots': 45,\n",
              "  'Cauliflower': 25,\n",
              "  'Corn': 77,\n",
              "  'Cornbread': 33,\n",
              "  'Fruit salad': 26,\n",
              "  'Green beans/green bean casserole': 92,\n",
              "  'Macaroni and cheese': 20,\n",
              "  'Mashed potatoes': 130,\n",
              "  'Rolls/biscuits': 106,\n",
              "  'Squash': 44,\n",
              "  'Vegetable salad': 33,\n",
              "  'Yams/sweet potato casserole': 99},\n",
              " 'Mountain': {'Brussel sprouts': 6,\n",
              "  'Carrots': 11,\n",
              "  'Cauliflower': 4,\n",
              "  'Corn': 17,\n",
              "  'Cornbread': 10,\n",
              "  'Fruit salad': 11,\n",
              "  'Green beans/green bean casserole': 31,\n",
              "  'Macaroni and cheese': 3,\n",
              "  'Mashed potatoes': 38,\n",
              "  'Rolls/biscuits': 33,\n",
              "  'Squash': 5,\n",
              "  'Vegetable salad': 12,\n",
              "  'Yams/sweet potato casserole': 26},\n",
              " 'New England': {'Brussel sprouts': 12,\n",
              "  'Carrots': 25,\n",
              "  'Cauliflower': 4,\n",
              "  'Corn': 22,\n",
              "  'Cornbread': 10,\n",
              "  'Fruit salad': 5,\n",
              "  'Green beans/green bean casserole': 33,\n",
              "  'Macaroni and cheese': 6,\n",
              "  'Mashed potatoes': 52,\n",
              "  'Rolls/biscuits': 41,\n",
              "  'Squash': 31,\n",
              "  'Vegetable salad': 11,\n",
              "  'Yams/sweet potato casserole': 34},\n",
              " 'Pacific': {'Brussel sprouts': 29,\n",
              "  'Carrots': 30,\n",
              "  'Cauliflower': 18,\n",
              "  'Corn': 55,\n",
              "  'Cornbread': 37,\n",
              "  'Fruit salad': 35,\n",
              "  'Green beans/green bean casserole': 84,\n",
              "  'Macaroni and cheese': 18,\n",
              "  'Mashed potatoes': 112,\n",
              "  'Rolls/biscuits': 99,\n",
              "  'Squash': 17,\n",
              "  'Vegetable salad': 39,\n",
              "  'Yams/sweet potato casserole': 85},\n",
              " 'South Atlantic': {'Brussel sprouts': 27,\n",
              "  'Carrots': 48,\n",
              "  'Cauliflower': 11,\n",
              "  'Corn': 96,\n",
              "  'Cornbread': 53,\n",
              "  'Fruit salad': 39,\n",
              "  'Green beans/green bean casserole': 150,\n",
              "  'Macaroni and cheese': 79,\n",
              "  'Mashed potatoes': 157,\n",
              "  'Rolls/biscuits': 158,\n",
              "  'Squash': 31,\n",
              "  'Vegetable salad': 39,\n",
              "  'Yams/sweet potato casserole': 144},\n",
              " 'West North Central': {'Brussel sprouts': 3,\n",
              "  'Carrots': 12,\n",
              "  'Cauliflower': 3,\n",
              "  'Corn': 36,\n",
              "  'Cornbread': 12,\n",
              "  'Fruit salad': 18,\n",
              "  'Green beans/green bean casserole': 60,\n",
              "  'Macaroni and cheese': 12,\n",
              "  'Mashed potatoes': 65,\n",
              "  'Rolls/biscuits': 62,\n",
              "  'Squash': 2,\n",
              "  'Vegetable salad': 15,\n",
              "  'Yams/sweet potato casserole': 33},\n",
              " 'West South Central': {'Brussel sprouts': 4,\n",
              "  'Carrots': 21,\n",
              "  'Cauliflower': 3,\n",
              "  'Corn': 46,\n",
              "  'Cornbread': 34,\n",
              "  'Fruit salad': 30,\n",
              "  'Green beans/green bean casserole': 66,\n",
              "  'Macaroni and cheese': 20,\n",
              "  'Mashed potatoes': 70,\n",
              "  'Rolls/biscuits': 73,\n",
              "  'Squash': 8,\n",
              "  'Vegetable salad': 15,\n",
              "  'Yams/sweet potato casserole': 63}}"
            ]
          },
          "metadata": {
            "tags": []
          },
          "execution_count": 85
        }
      ]
    },
    {
      "cell_type": "code",
      "metadata": {
        "id": "x4swIg91LVA1",
        "colab_type": "code",
        "colab": {
          "base_uri": "https://localhost:8080/",
          "height": 168
        },
        "outputId": "400044f2-ccc0-4e9c-d746-3651d5f309ce"
      },
      "source": [
        "final = {}\n",
        "\n",
        "for region in meal_dict:\n",
        "  region_dict = meal_dict[region]\n",
        "  maxval = max(region_dict.values())\n",
        "  for meal in region_dict:\n",
        "    if region_dict[meal] == maxval:\n",
        "      final[region] = meal\n",
        "      break\n",
        "\n",
        "final"
      ],
      "execution_count": 118,
      "outputs": [
        {
          "output_type": "execute_result",
          "data": {
            "text/plain": [
              "{'East North Central': 'Mashed potatoes',\n",
              " 'East South Central': 'Green beans/green bean casserole',\n",
              " 'Middle Atlantic': 'Mashed potatoes',\n",
              " 'Mountain': 'Mashed potatoes',\n",
              " 'New England': 'Mashed potatoes',\n",
              " 'Pacific': 'Mashed potatoes',\n",
              " 'South Atlantic': 'Rolls/biscuits',\n",
              " 'West North Central': 'Mashed potatoes',\n",
              " 'West South Central': 'Rolls/biscuits'}"
            ]
          },
          "metadata": {
            "tags": []
          },
          "execution_count": 118
        }
      ]
    },
    {
      "cell_type": "code",
      "metadata": {
        "id": "gNtgUR07f2XP",
        "colab_type": "code",
        "colab": {
          "base_uri": "https://localhost:8080/",
          "height": 542
        },
        "outputId": "32dc990d-5399-4268-ba11-36a65b480b1e"
      },
      "source": [
        "import plotly.express as px\n",
        "\n",
        "state_abbreviations = {\n",
        "    'Middle Atlantic': ['NY', 'NJ', 'PA'],\n",
        "    'East South Central': ['AL', 'KY', 'MS', 'TN'],\n",
        "    'Mountain': ['AZ', 'CO', 'ID', 'MT', 'NV', 'NM', 'UT', 'WY'],\n",
        "    'Pacific': ['AK', 'CA', 'HI', 'OR', 'WA'],\n",
        "    'East North Central': ['IL', 'IN', 'MI', 'OH', 'WI'],\n",
        "    'West North Central': ['IA', 'KS', 'MN', 'MO', 'NE', 'ND', 'SD'],\n",
        "    'West South Central': ['AR', 'LA', 'OK', 'TX'],\n",
        "    'South Atlantic': ['DE', 'MD', 'VA', 'WV', 'NC', 'SC', 'GA', 'FL'],\n",
        "    'New England': ['ME', 'VT', 'NH', 'MA', 'RI', 'CT']\n",
        "}\n",
        "\n",
        "sides = dict([(side, color) for color, side in enumerate(set(final.values()))])\n",
        "\n",
        "states = []\n",
        "colors = []\n",
        "for region, abbreviations in state_abbreviations.items():\n",
        "  states += abbreviations\n",
        "  side = final[region]\n",
        "  colors += [sides[side]] * len(abbreviations)\n",
        "\n",
        "fig = px.choropleth(locations=states, locationmode=\"USA-states\", color=colors, scope=\"usa\")\n",
        "fig.show()"
      ],
      "execution_count": 131,
      "outputs": [
        {
          "output_type": "display_data",
          "data": {
            "text/html": [
              "<html>\n",
              "<head><meta charset=\"utf-8\" /></head>\n",
              "<body>\n",
              "    <div>\n",
              "            <script src=\"https://cdnjs.cloudflare.com/ajax/libs/mathjax/2.7.5/MathJax.js?config=TeX-AMS-MML_SVG\"></script><script type=\"text/javascript\">if (window.MathJax) {MathJax.Hub.Config({SVG: {font: \"STIX-Web\"}});}</script>\n",
              "                <script type=\"text/javascript\">window.PlotlyConfig = {MathJaxConfig: 'local'};</script>\n",
              "        <script src=\"https://cdn.plot.ly/plotly-latest.min.js\"></script>    \n",
              "            <div id=\"5c46a3d3-4b66-4f4d-8df8-4c64b8f8af82\" class=\"plotly-graph-div\" style=\"height:525px; width:100%;\"></div>\n",
              "            <script type=\"text/javascript\">\n",
              "                \n",
              "                    window.PLOTLYENV=window.PLOTLYENV || {};\n",
              "                    \n",
              "                if (document.getElementById(\"5c46a3d3-4b66-4f4d-8df8-4c64b8f8af82\")) {\n",
              "                    Plotly.newPlot(\n",
              "                        '5c46a3d3-4b66-4f4d-8df8-4c64b8f8af82',\n",
              "                        [{\"coloraxis\": \"coloraxis\", \"geo\": \"geo\", \"hoverlabel\": {\"namelength\": 0}, \"hovertemplate\": \"locations=%{location}<br>color=%{z}\", \"locationmode\": \"USA-states\", \"locations\": [\"NY\", \"NJ\", \"PA\", \"AL\", \"KY\", \"MS\", \"TN\", \"AZ\", \"CO\", \"ID\", \"MT\", \"NV\", \"NM\", \"UT\", \"WY\", \"AK\", \"CA\", \"HI\", \"OR\", \"WA\", \"IL\", \"IN\", \"MI\", \"OH\", \"WI\", \"IA\", \"KS\", \"MN\", \"MO\", \"NE\", \"ND\", \"SD\", \"AR\", \"LA\", \"OK\", \"TX\", \"DE\", \"MD\", \"VA\", \"WV\", \"NC\", \"SC\", \"GA\", \"FL\", \"ME\", \"VT\", \"NH\", \"MA\", \"RI\", \"CT\"], \"name\": \"\", \"type\": \"choropleth\", \"z\": [1, 1, 1, 2, 2, 2, 2, 1, 1, 1, 1, 1, 1, 1, 1, 1, 1, 1, 1, 1, 1, 1, 1, 1, 1, 1, 1, 1, 1, 1, 1, 1, 0, 0, 0, 0, 0, 0, 0, 0, 0, 0, 0, 0, 1, 1, 1, 1, 1, 1]}],\n",
              "                        {\"coloraxis\": {\"colorbar\": {\"title\": {\"text\": \"color\"}}, \"colorscale\": [[0.0, \"#0d0887\"], [0.1111111111111111, \"#46039f\"], [0.2222222222222222, \"#7201a8\"], [0.3333333333333333, \"#9c179e\"], [0.4444444444444444, \"#bd3786\"], [0.5555555555555556, \"#d8576b\"], [0.6666666666666666, \"#ed7953\"], [0.7777777777777778, \"#fb9f3a\"], [0.8888888888888888, \"#fdca26\"], [1.0, \"#f0f921\"]]}, \"geo\": {\"center\": {}, \"domain\": {\"x\": [0.0, 1.0], \"y\": [0.0, 1.0]}, \"scope\": \"usa\"}, \"legend\": {\"tracegroupgap\": 0}, \"margin\": {\"t\": 60}, \"template\": {\"data\": {\"bar\": [{\"error_x\": {\"color\": \"#2a3f5f\"}, \"error_y\": {\"color\": \"#2a3f5f\"}, \"marker\": {\"line\": {\"color\": \"#E5ECF6\", \"width\": 0.5}}, \"type\": \"bar\"}], \"barpolar\": [{\"marker\": {\"line\": {\"color\": \"#E5ECF6\", \"width\": 0.5}}, \"type\": \"barpolar\"}], \"carpet\": [{\"aaxis\": {\"endlinecolor\": \"#2a3f5f\", \"gridcolor\": \"white\", \"linecolor\": \"white\", \"minorgridcolor\": \"white\", \"startlinecolor\": \"#2a3f5f\"}, \"baxis\": {\"endlinecolor\": \"#2a3f5f\", \"gridcolor\": \"white\", \"linecolor\": \"white\", \"minorgridcolor\": \"white\", \"startlinecolor\": \"#2a3f5f\"}, \"type\": \"carpet\"}], \"choropleth\": [{\"colorbar\": {\"outlinewidth\": 0, \"ticks\": \"\"}, \"type\": \"choropleth\"}], \"contour\": [{\"colorbar\": {\"outlinewidth\": 0, \"ticks\": \"\"}, \"colorscale\": [[0.0, \"#0d0887\"], [0.1111111111111111, \"#46039f\"], [0.2222222222222222, \"#7201a8\"], [0.3333333333333333, \"#9c179e\"], [0.4444444444444444, \"#bd3786\"], [0.5555555555555556, \"#d8576b\"], [0.6666666666666666, \"#ed7953\"], [0.7777777777777778, \"#fb9f3a\"], [0.8888888888888888, \"#fdca26\"], [1.0, \"#f0f921\"]], \"type\": \"contour\"}], \"contourcarpet\": [{\"colorbar\": {\"outlinewidth\": 0, \"ticks\": \"\"}, \"type\": \"contourcarpet\"}], \"heatmap\": [{\"colorbar\": {\"outlinewidth\": 0, \"ticks\": \"\"}, \"colorscale\": [[0.0, \"#0d0887\"], [0.1111111111111111, \"#46039f\"], [0.2222222222222222, \"#7201a8\"], [0.3333333333333333, \"#9c179e\"], [0.4444444444444444, \"#bd3786\"], [0.5555555555555556, \"#d8576b\"], [0.6666666666666666, \"#ed7953\"], [0.7777777777777778, \"#fb9f3a\"], [0.8888888888888888, \"#fdca26\"], [1.0, \"#f0f921\"]], \"type\": \"heatmap\"}], \"heatmapgl\": [{\"colorbar\": {\"outlinewidth\": 0, \"ticks\": \"\"}, \"colorscale\": [[0.0, \"#0d0887\"], [0.1111111111111111, \"#46039f\"], [0.2222222222222222, \"#7201a8\"], [0.3333333333333333, \"#9c179e\"], [0.4444444444444444, \"#bd3786\"], [0.5555555555555556, \"#d8576b\"], [0.6666666666666666, \"#ed7953\"], [0.7777777777777778, \"#fb9f3a\"], [0.8888888888888888, \"#fdca26\"], [1.0, \"#f0f921\"]], \"type\": \"heatmapgl\"}], \"histogram\": [{\"marker\": {\"colorbar\": {\"outlinewidth\": 0, \"ticks\": \"\"}}, \"type\": \"histogram\"}], \"histogram2d\": [{\"colorbar\": {\"outlinewidth\": 0, \"ticks\": \"\"}, \"colorscale\": [[0.0, \"#0d0887\"], [0.1111111111111111, \"#46039f\"], [0.2222222222222222, \"#7201a8\"], [0.3333333333333333, \"#9c179e\"], [0.4444444444444444, \"#bd3786\"], [0.5555555555555556, \"#d8576b\"], [0.6666666666666666, \"#ed7953\"], [0.7777777777777778, \"#fb9f3a\"], [0.8888888888888888, \"#fdca26\"], [1.0, \"#f0f921\"]], \"type\": \"histogram2d\"}], \"histogram2dcontour\": [{\"colorbar\": {\"outlinewidth\": 0, \"ticks\": \"\"}, \"colorscale\": [[0.0, \"#0d0887\"], [0.1111111111111111, \"#46039f\"], [0.2222222222222222, \"#7201a8\"], [0.3333333333333333, \"#9c179e\"], [0.4444444444444444, \"#bd3786\"], [0.5555555555555556, \"#d8576b\"], [0.6666666666666666, \"#ed7953\"], [0.7777777777777778, \"#fb9f3a\"], [0.8888888888888888, \"#fdca26\"], [1.0, \"#f0f921\"]], \"type\": \"histogram2dcontour\"}], \"mesh3d\": [{\"colorbar\": {\"outlinewidth\": 0, \"ticks\": \"\"}, \"type\": \"mesh3d\"}], \"parcoords\": [{\"line\": {\"colorbar\": {\"outlinewidth\": 0, \"ticks\": \"\"}}, \"type\": \"parcoords\"}], \"pie\": [{\"automargin\": true, \"type\": \"pie\"}], \"scatter\": [{\"marker\": {\"colorbar\": {\"outlinewidth\": 0, \"ticks\": \"\"}}, \"type\": \"scatter\"}], \"scatter3d\": [{\"line\": {\"colorbar\": {\"outlinewidth\": 0, \"ticks\": \"\"}}, \"marker\": {\"colorbar\": {\"outlinewidth\": 0, \"ticks\": \"\"}}, \"type\": \"scatter3d\"}], \"scattercarpet\": [{\"marker\": {\"colorbar\": {\"outlinewidth\": 0, \"ticks\": \"\"}}, \"type\": \"scattercarpet\"}], \"scattergeo\": [{\"marker\": {\"colorbar\": {\"outlinewidth\": 0, \"ticks\": \"\"}}, \"type\": \"scattergeo\"}], \"scattergl\": [{\"marker\": {\"colorbar\": {\"outlinewidth\": 0, \"ticks\": \"\"}}, \"type\": \"scattergl\"}], \"scattermapbox\": [{\"marker\": {\"colorbar\": {\"outlinewidth\": 0, \"ticks\": \"\"}}, \"type\": \"scattermapbox\"}], \"scatterpolar\": [{\"marker\": {\"colorbar\": {\"outlinewidth\": 0, \"ticks\": \"\"}}, \"type\": \"scatterpolar\"}], \"scatterpolargl\": [{\"marker\": {\"colorbar\": {\"outlinewidth\": 0, \"ticks\": \"\"}}, \"type\": \"scatterpolargl\"}], \"scatterternary\": [{\"marker\": {\"colorbar\": {\"outlinewidth\": 0, \"ticks\": \"\"}}, \"type\": \"scatterternary\"}], \"surface\": [{\"colorbar\": {\"outlinewidth\": 0, \"ticks\": \"\"}, \"colorscale\": [[0.0, \"#0d0887\"], [0.1111111111111111, \"#46039f\"], [0.2222222222222222, \"#7201a8\"], [0.3333333333333333, \"#9c179e\"], [0.4444444444444444, \"#bd3786\"], [0.5555555555555556, \"#d8576b\"], [0.6666666666666666, \"#ed7953\"], [0.7777777777777778, \"#fb9f3a\"], [0.8888888888888888, \"#fdca26\"], [1.0, \"#f0f921\"]], \"type\": \"surface\"}], \"table\": [{\"cells\": {\"fill\": {\"color\": \"#EBF0F8\"}, \"line\": {\"color\": \"white\"}}, \"header\": {\"fill\": {\"color\": \"#C8D4E3\"}, \"line\": {\"color\": \"white\"}}, \"type\": \"table\"}]}, \"layout\": {\"annotationdefaults\": {\"arrowcolor\": \"#2a3f5f\", \"arrowhead\": 0, \"arrowwidth\": 1}, \"coloraxis\": {\"colorbar\": {\"outlinewidth\": 0, \"ticks\": \"\"}}, \"colorscale\": {\"diverging\": [[0, \"#8e0152\"], [0.1, \"#c51b7d\"], [0.2, \"#de77ae\"], [0.3, \"#f1b6da\"], [0.4, \"#fde0ef\"], [0.5, \"#f7f7f7\"], [0.6, \"#e6f5d0\"], [0.7, \"#b8e186\"], [0.8, \"#7fbc41\"], [0.9, \"#4d9221\"], [1, \"#276419\"]], \"sequential\": [[0.0, \"#0d0887\"], [0.1111111111111111, \"#46039f\"], [0.2222222222222222, \"#7201a8\"], [0.3333333333333333, \"#9c179e\"], [0.4444444444444444, \"#bd3786\"], [0.5555555555555556, \"#d8576b\"], [0.6666666666666666, \"#ed7953\"], [0.7777777777777778, \"#fb9f3a\"], [0.8888888888888888, \"#fdca26\"], [1.0, \"#f0f921\"]], \"sequentialminus\": [[0.0, \"#0d0887\"], [0.1111111111111111, \"#46039f\"], [0.2222222222222222, \"#7201a8\"], [0.3333333333333333, \"#9c179e\"], [0.4444444444444444, \"#bd3786\"], [0.5555555555555556, \"#d8576b\"], [0.6666666666666666, \"#ed7953\"], [0.7777777777777778, \"#fb9f3a\"], [0.8888888888888888, \"#fdca26\"], [1.0, \"#f0f921\"]]}, \"colorway\": [\"#636efa\", \"#EF553B\", \"#00cc96\", \"#ab63fa\", \"#FFA15A\", \"#19d3f3\", \"#FF6692\", \"#B6E880\", \"#FF97FF\", \"#FECB52\"], \"font\": {\"color\": \"#2a3f5f\"}, \"geo\": {\"bgcolor\": \"white\", \"lakecolor\": \"white\", \"landcolor\": \"#E5ECF6\", \"showlakes\": true, \"showland\": true, \"subunitcolor\": \"white\"}, \"hoverlabel\": {\"align\": \"left\"}, \"hovermode\": \"closest\", \"mapbox\": {\"style\": \"light\"}, \"paper_bgcolor\": \"white\", \"plot_bgcolor\": \"#E5ECF6\", \"polar\": {\"angularaxis\": {\"gridcolor\": \"white\", \"linecolor\": \"white\", \"ticks\": \"\"}, \"bgcolor\": \"#E5ECF6\", \"radialaxis\": {\"gridcolor\": \"white\", \"linecolor\": \"white\", \"ticks\": \"\"}}, \"scene\": {\"xaxis\": {\"backgroundcolor\": \"#E5ECF6\", \"gridcolor\": \"white\", \"gridwidth\": 2, \"linecolor\": \"white\", \"showbackground\": true, \"ticks\": \"\", \"zerolinecolor\": \"white\"}, \"yaxis\": {\"backgroundcolor\": \"#E5ECF6\", \"gridcolor\": \"white\", \"gridwidth\": 2, \"linecolor\": \"white\", \"showbackground\": true, \"ticks\": \"\", \"zerolinecolor\": \"white\"}, \"zaxis\": {\"backgroundcolor\": \"#E5ECF6\", \"gridcolor\": \"white\", \"gridwidth\": 2, \"linecolor\": \"white\", \"showbackground\": true, \"ticks\": \"\", \"zerolinecolor\": \"white\"}}, \"shapedefaults\": {\"line\": {\"color\": \"#2a3f5f\"}}, \"ternary\": {\"aaxis\": {\"gridcolor\": \"white\", \"linecolor\": \"white\", \"ticks\": \"\"}, \"baxis\": {\"gridcolor\": \"white\", \"linecolor\": \"white\", \"ticks\": \"\"}, \"bgcolor\": \"#E5ECF6\", \"caxis\": {\"gridcolor\": \"white\", \"linecolor\": \"white\", \"ticks\": \"\"}}, \"title\": {\"x\": 0.05}, \"xaxis\": {\"automargin\": true, \"gridcolor\": \"white\", \"linecolor\": \"white\", \"ticks\": \"\", \"title\": {\"standoff\": 15}, \"zerolinecolor\": \"white\", \"zerolinewidth\": 2}, \"yaxis\": {\"automargin\": true, \"gridcolor\": \"white\", \"linecolor\": \"white\", \"ticks\": \"\", \"title\": {\"standoff\": 15}, \"zerolinecolor\": \"white\", \"zerolinewidth\": 2}}}},\n",
              "                        {\"responsive\": true}\n",
              "                    ).then(function(){\n",
              "                            \n",
              "var gd = document.getElementById('5c46a3d3-4b66-4f4d-8df8-4c64b8f8af82');\n",
              "var x = new MutationObserver(function (mutations, observer) {{\n",
              "        var display = window.getComputedStyle(gd).display;\n",
              "        if (!display || display === 'none') {{\n",
              "            console.log([gd, 'removed!']);\n",
              "            Plotly.purge(gd);\n",
              "            observer.disconnect();\n",
              "        }}\n",
              "}});\n",
              "\n",
              "// Listen for the removal of the full notebook cells\n",
              "var notebookContainer = gd.closest('#notebook-container');\n",
              "if (notebookContainer) {{\n",
              "    x.observe(notebookContainer, {childList: true});\n",
              "}}\n",
              "\n",
              "// Listen for the clearing of the current output cell\n",
              "var outputEl = gd.closest('.output');\n",
              "if (outputEl) {{\n",
              "    x.observe(outputEl, {childList: true});\n",
              "}}\n",
              "\n",
              "                        })\n",
              "                };\n",
              "                \n",
              "            </script>\n",
              "        </div>\n",
              "</body>\n",
              "</html>"
            ]
          },
          "metadata": {
            "tags": []
          }
        }
      ]
    },
    {
      "cell_type": "code",
      "metadata": {
        "id": "o7sujq68ggV7",
        "colab_type": "code",
        "colab": {}
      },
      "source": [
        ""
      ],
      "execution_count": 0,
      "outputs": []
    }
  ]
}